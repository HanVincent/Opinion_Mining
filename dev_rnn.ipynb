{
 "cells": [
  {
   "cell_type": "code",
   "execution_count": 1,
   "metadata": {},
   "outputs": [],
   "source": [
    "from torch.nn.utils.rnn import pad_sequence\n",
    "\n",
    "import torch\n",
    "import torch.nn as nn\n",
    "import torch.optim as optim       # 模型優化器模塊\n",
    "\n",
    "import numpy as np\n",
    "import pickle, math, datetime, time, os\n",
    "os.environ[\"CUDA_VISIBLE_DEVICES\"] = \"1\"\n",
    "\n",
    "is_cuda = torch.cuda.is_available()"
   ]
  },
  {
   "cell_type": "code",
   "execution_count": 2,
   "metadata": {},
   "outputs": [],
   "source": [
    "# from tensorboardX import SummaryWriter\n",
    "# writer = SummaryWriter('log')"
   ]
  },
  {
   "cell_type": "code",
   "execution_count": 3,
   "metadata": {},
   "outputs": [],
   "source": [
    "from utils.preprocess import get_sentence_target, group_data, split_dataset"
   ]
  },
  {
   "cell_type": "code",
   "execution_count": 4,
   "metadata": {},
   "outputs": [],
   "source": [
    "# Stacked BiLSTM\n",
    "from LSTM.standard_LSTM import LSTMTagger"
   ]
  },
  {
   "cell_type": "code",
   "execution_count": 5,
   "metadata": {},
   "outputs": [],
   "source": [
    "def sequence_to_ixs(seq, to_ix):\n",
    "    ixs = [to_ix[w] if w in to_ix else to_ix[UNK_TOKEN] for w in seq]\n",
    "    return torch.cuda.LongTensor(ixs) if is_cuda else torch.LongTensor(ixs)\n",
    "\n",
    "\n",
    "def ixs_to_sequence(seq, to_word):\n",
    "    tokens = [to_word[ix] for ix in seq]\n",
    "    return tokens"
   ]
  },
  {
   "cell_type": "code",
   "execution_count": 6,
   "metadata": {},
   "outputs": [],
   "source": [
    "def train(training_data):\n",
    "    total_num = len(training_data)\n",
    "    batch_num = math.ceil(total_num / batch_size)\n",
    "\n",
    "    for epoch in range(epochs):\n",
    "        \n",
    "        for i in range(batch_num):\n",
    "            model.zero_grad()\n",
    "\n",
    "            data = training_data[i * batch_size : (i+1) * batch_size]\n",
    "\n",
    "            x = list(map(lambda pair: sequence_to_ixs(pair[0], word_to_ix), data))\n",
    "            y = list(map(lambda pair: sequence_to_ixs(pair[1], tag_to_ix), data))\n",
    "\n",
    "            assert len(x) == len(y)\n",
    "\n",
    "            lengths = list(map(lambda x: x.shape[0], x))\n",
    "\n",
    "            padded_seqs = pad_sequence(x, batch_first=True)\n",
    "            padded_tags = pad_sequence(y, batch_first=True)\n",
    "\n",
    "            predict_tags = model(padded_seqs, lengths)\n",
    "            \n",
    "            true_tags = padded_tags.view(-1)\n",
    "\n",
    "            loss = loss_function(predict_tags, true_tags)\n",
    "\n",
    "            optimizer.zero_grad()\n",
    "            loss.backward()\n",
    "            optimizer.step()\n",
    "\n",
    "        if (epoch + 1) % 5 == 0:\n",
    "            print(\"epoch: {}, loss: {}\".format(epoch+1, loss))\n",
    "            \n",
    "            # writer.add_scalar('Train/Loss'.format(epoch), loss.data[0], epoch)"
   ]
  },
  {
   "cell_type": "code",
   "execution_count": 7,
   "metadata": {},
   "outputs": [],
   "source": [
    "from utils.evaluate import evaluate\n",
    "\n",
    "def test(test_data):\n",
    "    with torch.no_grad():\n",
    "        data = test_data\n",
    "        \n",
    "        x = list(map(lambda pair: sequence_to_ixs(pair[0], word_to_ix), data))\n",
    "        y = list(map(lambda pair: sequence_to_ixs(pair[1], tag_to_ix), data))\n",
    "\n",
    "        lengths = list(map(lambda x: x.shape[0], x))\n",
    "\n",
    "        padded_seqs = pad_sequence(x, batch_first=True)\n",
    "        y_predicts = model(padded_seqs, lengths)\n",
    "        y_predicts = torch.max(y_predicts, 1)[1].view([len(lengths), -1])\n",
    "\n",
    "        y_trues = y\n",
    "        y_predicts = [y_[:lengths[i]] for i, y_ in enumerate(y_predicts)]\n",
    "\n",
    "        result = evaluate(y_predicts, y_trues)\n",
    "        \n",
    "        return result, (y_predicts, y_trues)"
   ]
  },
  {
   "cell_type": "code",
   "execution_count": 35,
   "metadata": {},
   "outputs": [],
   "source": [
    "# Constant\n",
    "UNK_TOKEN = '<UNK>'\n",
    "\n",
    "# Data \n",
    "file_name = 'dataset/ese.txt'\n",
    "\n",
    "# Store model\n",
    "model_path = 'models/' + datetime.datetime.utcfromtimestamp(time.time()).strftime(\"%Y%m%d_%H%M\") + '.model'\n",
    "\n",
    "# Word embeddings\n",
    "source = 'glove'\n",
    "\n",
    "# Model hyper-parameters\n",
    "embedding_dim = 300\n",
    "hidden_dim = 100\n",
    "learning_rate = 0.01\n",
    "momentum = 0.7\n",
    "dropout = 0\n",
    "num_layers = 3\n",
    "bidirectional = True\n",
    "batch_size = 80\n",
    "epochs = 200"
   ]
  },
  {
   "cell_type": "code",
   "execution_count": 10,
   "metadata": {},
   "outputs": [],
   "source": [
    "### Get Word Embeddings\n",
    "with open(f'dataset/{source}.pickle', 'rb') as handle:\n",
    "    word_vectors, embedding_weights, word_to_ix, ix_to_word = pickle.load(handle)\n",
    "\n",
    "### Manual Tag\n",
    "tag_to_ix = {\"B\": 0, \"I\": 1, \"O\": 2}\n",
    "ix_to_tag = {0: \"B\", 1: \"I\", 2: \"O\"}"
   ]
  },
  {
   "cell_type": "code",
   "execution_count": null,
   "metadata": {},
   "outputs": [],
   "source": [
    "best_result = 0\n",
    "results = []\n",
    "for num in range(10):\n",
    "    print(\"10-fold:\", num, \"=\"*50)\n",
    "    \n",
    "    # Get Data and split\n",
    "    documents = group_data(file_name)\n",
    "    train_data, test_data, dev_data = split_dataset(documents, num)\n",
    "\n",
    "    # Create Model\n",
    "    model = LSTMTagger(embedding_dim, embedding_weights,\n",
    "                       hidden_dim, len(tag_to_ix), \n",
    "                       dropout=dropout,num_layers=num_layers,\n",
    "                       bidirectional=bidirectional)\n",
    "\n",
    "    if is_cuda: model.cuda()\n",
    "        \n",
    "    loss_function = nn.NLLLoss()\n",
    "\n",
    "    optimizer = optim.SGD(filter(lambda p: p.requires_grad, model.parameters()), lr=learning_rate, momentum=momentum)\n",
    "\n",
    "    train(train_data)\n",
    "    \n",
    "    result, _ = test(test_data)\n",
    "    \n",
    "    if result['proportional']['f1'] >= best_result:\n",
    "        best_result = result['proportional']['f1']        \n",
    "        torch.save(model.state_dict(), model_path)\n",
    "        print(\"Store Model with score: {}\".format(best_result))\n",
    "        \n",
    "    results.append(result)"
   ]
  },
  {
   "cell_type": "code",
   "execution_count": null,
   "metadata": {},
   "outputs": [],
   "source": [
    "bin_result = { 'precision': .0, 'recall': .0, 'f1': .0 }\n",
    "prop_result = { 'precision': .0, 'recall': .0, 'f1': .0 }\n",
    "\n",
    "for i, result in enumerate(results):\n",
    "    for key in result['binary']: bin_result[key] += (result['binary'][key] / len(results))\n",
    "    for key in result['proportional']: prop_result[key] += (result['proportional'][key] / len(results))\n",
    "    \n",
    "    print(\"10-fold: {}\".format(i))\n",
    "    print(\"Binary Overlap\\t\\tPrecision: {precision:.3f}, Recall: {recall:.3f}, F1: {f1:.3f}\".format(**result['binary']))\n",
    "    print(\"Proportional Overlap\\tPrecision: {precision:.3f}, Recall: {recall:.3f}, F1: {f1:.3f}\".format(**result['proportional']))\n",
    "\n",
    "print(\"\\nAverage\", \"=\"*70)\n",
    "print(\"Binary Overlap\\t\\tPrecision: {precision:.3f}, Recall: {recall:.3f}, F1: {f1:.3f}\".format(**bin_result))\n",
    "print(\"Proportional Overlap\\tPrecision: {precision:.3f}, Recall: {recall:.3f}, F1: {f1:.3f}\".format(**prop_result))\n",
    "\n",
    "\n",
    "print(\"\\nParams\", \"=\" * 70)\n",
    "print(f'''model_path = {model_path}\n",
    "file_name = {file_name}\n",
    "source = {source}\n",
    "embedding_dim = {embedding_dim}\n",
    "hidden_dim = {hidden_dim}\n",
    "learning_rate = {learning_rate}\n",
    "momentum = {momentum}\n",
    "dropout = {dropout}\n",
    "num_layers = {num_layers}\n",
    "bidirectional = {bidirectional}\n",
    "batch_size = {batch_size}\n",
    "epochs = {epochs}''')"
   ]
  },
  {
   "cell_type": "code",
   "execution_count": null,
   "metadata": {},
   "outputs": [],
   "source": []
  },
  {
   "cell_type": "code",
   "execution_count": null,
   "metadata": {},
   "outputs": [],
   "source": []
  },
  {
   "cell_type": "code",
   "execution_count": 39,
   "metadata": {},
   "outputs": [
    {
     "name": "stdout",
     "output_type": "stream",
     "text": [
      "Train size: 7507, Test size: 734, Dev size: 2870\n",
      "{'binary': {'precision': 0.7154255319148937, 'recall': 0.6078184110970997, 'f1': 0.6572466284289151}, 'proportional': {'precision': 0.6565918973166316, 'recall': 0.4351816027896689, 'f1': 0.523435885236527}}\n"
     ]
    }
   ],
   "source": [
    "model_path = 'models/20181031_0613.model'\n",
    "fname = 'ese'\n",
    "\n",
    "# Get Data and split\n",
    "documents = group_data(file_name)\n",
    "train_data, test_data, dev_data = split_dataset(documents, 0)\n",
    "\n",
    "\n",
    "# Create Model\n",
    "model = LSTMTagger(embedding_dim, embedding_weights,\n",
    "                   hidden_dim, \n",
    "                   len(tag_to_ix), \n",
    "                   dropout=dropout,\n",
    "                   num_layers=num_layers,\n",
    "                   bidirectional=bidirectional)\n",
    "\n",
    "model.load_state_dict(torch.load(model_path))\n",
    "\n",
    "if is_cuda: model.cuda()\n",
    "\n",
    "result, y_pair = test(test_data)\n",
    "\n",
    "print(result)"
   ]
  },
  {
   "cell_type": "code",
   "execution_count": 40,
   "metadata": {},
   "outputs": [
    {
     "name": "stdout",
     "output_type": "stream",
     "text": [
      "0.4032697547683924\n"
     ]
    }
   ],
   "source": [
    "ys_, ys = y_pair\n",
    "\n",
    "ws = open(f'dataset/failure_{fname}.txt', 'w', encoding='utf8')\n",
    "correct = 0\n",
    "for (tks, tags), y_, y in zip(test_data, ys_, ys):\n",
    "    if sum(torch.eq(y_, y)) == len(tks):\n",
    "        correct += 1\n",
    "    else:\n",
    "        sents, trues, bios = [], [], []\n",
    "        for i, tk in enumerate(tks):\n",
    "            length = len(tk)\n",
    "            sents.append(tk)\n",
    "            bios.append('{:>{length}s}'.format(ix_to_tag[int(y_[i])], length=length))\n",
    "            trues.append('{:>{length}s}'.format(ix_to_tag[int(y[i])], length=length))\n",
    "            \n",
    "        print(' '.join(sents), file=ws)\n",
    "        print(' '.join(bios), file=ws)\n",
    "        print(' '.join(trues), file=ws)\n",
    "        print(\"=\"*20, file=ws)\n",
    "        \n",
    "ws.close()\n",
    "print(correct / len(test_data))"
   ]
  },
  {
   "cell_type": "code",
   "execution_count": null,
   "metadata": {},
   "outputs": [],
   "source": [
    "# for name, param in model.named_parameters():\n",
    "#     print( name, param.shape)\n",
    "    \n",
    "# total_param = sum(p.numel() for p in model.parameters())\n",
    "# print(total_param)"
   ]
  },
  {
   "cell_type": "code",
   "execution_count": null,
   "metadata": {},
   "outputs": [],
   "source": []
  }
 ],
 "metadata": {
  "kernelspec": {
   "display_name": "Python 3",
   "language": "python",
   "name": "python3"
  },
  "language_info": {
   "codemirror_mode": {
    "name": "ipython",
    "version": 3
   },
   "file_extension": ".py",
   "mimetype": "text/x-python",
   "name": "python",
   "nbconvert_exporter": "python",
   "pygments_lexer": "ipython3",
   "version": "3.6.3"
  }
 },
 "nbformat": 4,
 "nbformat_minor": 2
}
