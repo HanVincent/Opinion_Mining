{
 "cells": [
  {
   "cell_type": "code",
   "execution_count": 65,
   "metadata": {},
   "outputs": [],
   "source": [
    "import math\n",
    "\n",
    "file_name = 'ese'\n",
    "entries = open(f'dataset/{file_name}.txt', 'r', encoding='utf8').read().strip().split('\\n\\n')"
   ]
  },
  {
   "cell_type": "code",
   "execution_count": 66,
   "metadata": {},
   "outputs": [],
   "source": [
    "def get_sent_and_tags(entry):\n",
    "    sents, poss, tags = [], [], []\n",
    "    \n",
    "    lines = entry.strip().split('\\n')\n",
    "    for line in lines:            \n",
    "        word, pos, tag = line.split('\\t')\n",
    "        length = len(word)\n",
    "        sents.append(word)\n",
    "        poss.append('{:>{length}s}'.format(pos, length=length))\n",
    "        tags.append('{:>{length}s}'.format(tag, length=length))\n",
    "        \n",
    "    return sents, poss, tags"
   ]
  },
  {
   "cell_type": "code",
   "execution_count": 67,
   "metadata": {},
   "outputs": [],
   "source": [
    "ws = open(f'dataset/obs_{file_name}.txt', 'w', encoding='utf8')\n",
    "\n",
    "for entry in entries:\n",
    "    sents, poss, tags = get_sent_and_tags(entry)\n",
    "    \n",
    "    limit = 1000000\n",
    "    num = math.ceil(len(sents) / limit)\n",
    "    for i in range(num):\n",
    "        print(' '.join(sents[i*limit : (i+1)*limit]), file=ws)\n",
    "        print(' '.join(tags[i*limit : (i+1)*limit]), file=ws)\n",
    "    print('='*20, file=ws)\n",
    "\n",
    "ws.close()"
   ]
  },
  {
   "cell_type": "code",
   "execution_count": null,
   "metadata": {},
   "outputs": [],
   "source": []
  }
 ],
 "metadata": {
  "kernelspec": {
   "display_name": "Python 3",
   "language": "python",
   "name": "python3"
  },
  "language_info": {
   "codemirror_mode": {
    "name": "ipython",
    "version": 3
   },
   "file_extension": ".py",
   "mimetype": "text/x-python",
   "name": "python",
   "nbconvert_exporter": "python",
   "pygments_lexer": "ipython3",
   "version": "3.6.3"
  }
 },
 "nbformat": 4,
 "nbformat_minor": 2
}
