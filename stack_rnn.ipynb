{
 "cells": [
  {
   "cell_type": "code",
   "execution_count": 1,
   "metadata": {},
   "outputs": [],
   "source": [
    "import torch\n",
    "import torch.autograd as autograd # torch中自動計算梯度模塊\n",
    "import torch.nn as nn             # 神經網絡模塊\n",
    "import torch.nn.functional as F   # 神經網絡模塊中的常用功能 \n",
    "import torch.optim as optim       # 模型優化器模塊\n",
    "import numpy as np\n",
    "\n",
    "import os\n",
    "os.environ[\"CUDA_VISIBLE_DEVICES\"] = \"0\""
   ]
  },
  {
   "cell_type": "code",
   "execution_count": 2,
   "metadata": {},
   "outputs": [],
   "source": [
    "def get_data_pairs(file, ratio=0.1):\n",
    "    pairs = []\n",
    "    entries = open(file, 'r', encoding='utf8').read().strip().split('\\n\\n')\n",
    "    num = int(len(entries) * ratio)\n",
    "    \n",
    "    for entry in entries:\n",
    "        sentence, target = [], []\n",
    "        for line in entry.split('\\n'):\n",
    "            if line.strip() == '': continue\n",
    "                \n",
    "            token, pos, bio = line.split('\\t')\n",
    "            sentence.append(token)\n",
    "            target.append(bio)\n",
    "        pairs.append((sentence, target))\n",
    "\n",
    "    return pairs[num:], pairs[:num]"
   ]
  },
  {
   "cell_type": "code",
   "execution_count": 3,
   "metadata": {},
   "outputs": [
    {
     "name": "stdout",
     "output_type": "stream",
     "text": [
      "13043 13043\n"
     ]
    }
   ],
   "source": [
    "dse_train, dse_test = get_data_pairs('./dataset/dse.txt')\n",
    "ese_train, ese_test = get_data_pairs('./dataset/ese.txt')\n",
    "print(len(dse_train), len(ese_train))"
   ]
  },
  {
   "cell_type": "code",
   "execution_count": 4,
   "metadata": {},
   "outputs": [
    {
     "name": "stdout",
     "output_type": "stream",
     "text": [
      "22271\n"
     ]
    }
   ],
   "source": [
    "def get_dict(pair_data):\n",
    "    # not normalized\n",
    "    word_to_ix = {\"_UNK\": 0, \"_PAD\": 1} \n",
    "    ix_to_word = {0: \"_UNK\", 1: \"_PAD\"}\n",
    "    for sent, tags in pair_data:\n",
    "        for word in sent:\n",
    "            if word not in word_to_ix:\n",
    "                ix = len(word_to_ix)\n",
    "                word_to_ix[word] = ix\n",
    "                ix_to_word[ix] = word\n",
    "\n",
    "    tag_to_ix = {\"B\": 0, \"I\": 1, \"O\": 2} # 手工設定詞性標籤數據字典\n",
    "    ix_to_tag = {0: \"B\", 1: \"I\", 2: \"O\"}\n",
    "\n",
    "    return word_to_ix, tag_to_ix, ix_to_word, ix_to_tag\n",
    "\n",
    "word_to_ix, tag_to_ix, ix_to_word, ix_to_tag = get_dict(dse_train)\n",
    "\n",
    "print(len(word_to_ix))"
   ]
  },
  {
   "cell_type": "code",
   "execution_count": 5,
   "metadata": {},
   "outputs": [],
   "source": [
    "# def get_word_vectors():\n",
    "#     glove = {}\n",
    "#     glove_path = 'dataset/glove/'\n",
    "\n",
    "#     for l in open(f'{glove_path}/glove.6B.50d.txt', 'r', encoding='utf8'):\n",
    "#         line = l.split()\n",
    "#         glove[line[0]] = np.array(line[1:]).astype(np.float)\n",
    "        \n",
    "#     return glove"
   ]
  },
  {
   "cell_type": "code",
   "execution_count": 11,
   "metadata": {},
   "outputs": [],
   "source": [
    "def sequence_to_ixs(seq, to_ix):\n",
    "    ixs = [to_ix[w] if w in to_ix else 0 for w in seq]\n",
    "    tensor = torch.cuda.LongTensor(ixs)\n",
    "    \n",
    "    return autograd.Variable(tensor)\n",
    "\n",
    "def ixs_to_sequence(seq, to_word):\n",
    "    tokens = [to_word[ix] for ix in seq]\n",
    "    \n",
    "    return tokens\n",
    "\n",
    "\n",
    "def sequence_to_ixs2(seq):\n",
    "    vocabs = word_vectors.vocab.keys()\n",
    "    ixs = [word_vectors.vocab[w].index if w in vocabs else 0 for w in seq]\n",
    "    tensor = torch.cuda.LongTensor(ixs)\n",
    "    \n",
    "    return autograd.Variable(tensor)\n"
   ]
  },
  {
   "cell_type": "code",
   "execution_count": 19,
   "metadata": {},
   "outputs": [],
   "source": [
    "class LSTMTagger(nn.Module):\n",
    " \n",
    "    def __init__(self, embedding_dim, hidden_dim, \n",
    "                 vocab_size, tagset_size, \n",
    "                 dropout, num_layers, bidirectional):\n",
    "        super(LSTMTagger, self).__init__()\n",
    "        \n",
    "        self.hidden_dim = hidden_dim\n",
    "        self.num_layers = num_layers\n",
    "\n",
    "#         self.word_embeddings = nn.Embedding(vocab_size, embedding_dim)\n",
    "        weights = torch.FloatTensor(word_vectors.syn0)\n",
    "        self.word_embeddings = nn.Embedding.from_pretrained(weights, freeze=True)\n",
    "        \n",
    "        self.lstm = nn.LSTM(embedding_dim, hidden_dim, \n",
    "                            dropout=dropout, num_layers=num_layers,\n",
    "                            bidirectional=bidirectional)\n",
    " \n",
    "        self.hidden2tag = nn.Linear(hidden_dim * (1+int(bidirectional)), tagset_size)\n",
    "    \n",
    "        self.hidden = self.init_hidden()\n",
    " \n",
    "\n",
    "    def init_hidden(self):\n",
    "        return (autograd.Variable(torch.zeros(self.num_layers * (1+int(bidirectional)), 1, self.hidden_dim).cuda()),\n",
    "                autograd.Variable(torch.zeros(self.num_layers * (1+int(bidirectional)), 1, self.hidden_dim).cuda()))\n",
    " \n",
    "\n",
    "    def forward(self, sentence):\n",
    "        embeds = self.word_embeddings(sentence)\n",
    "        \n",
    "        try:\n",
    "            lstm_out, self.hidden = self.lstm(\n",
    "                embeds.view(len(sentence), 1, -1), self.hidden)\n",
    "\n",
    "            tag_space = self.hidden2tag(lstm_out.view(len(sentence), -1))\n",
    "\n",
    "            tag_scores = F.log_softmax(tag_space)\n",
    "\n",
    "            return tag_scores\n",
    "        except Exception as e:\n",
    "            print(sentence)\n",
    "            print(embeds)\n",
    "            print(e)"
   ]
  },
  {
   "cell_type": "code",
   "execution_count": 20,
   "metadata": {},
   "outputs": [],
   "source": [
    "embedding_dim = 300\n",
    "hidden_dim = 100\n",
    "learning_rate = 0.005\n",
    "momentum = 0.7\n",
    "dropout = 0\n",
    "num_layers = 3\n",
    "bidirectional = True\n",
    "epochs = 200\n",
    "model_path = 'models/standard.model'\n",
    "\n",
    "# import gensim\n",
    "# word_vectors = gensim.models.KeyedVectors.load_word2vec_format('/scepter/word_vectors/GoogleNews-vectors-negative300.bin', binary=True)  \n",
    "\n",
    "# word_vectors = get_word_vectors()\n",
    "# target_vocabs = word_to_ix.keys()\n",
    "# weights_matrix = np.zeros((len(target_vocabs), embedding_dim))\n",
    "# words_found = 0\n",
    "\n",
    "# for i, word in enumerate(target_vocabs):\n",
    "#     try: \n",
    "#         weights_matrix[i] = glove[word]\n",
    "#         words_found += 1\n",
    "#     except KeyError:\n",
    "#         weights_matrix[i] = np.random.normal(scale=0.6, size=(embedding_dim, ))\n",
    "        \n",
    "        \n",
    "model = LSTMTagger(embedding_dim, hidden_dim, \n",
    "                   len(word_to_ix), len(tag_to_ix), \n",
    "                   dropout=dropout,\n",
    "                   num_layers=num_layers,\n",
    "                   bidirectional=bidirectional)\n",
    "\n",
    "loss_function = nn.NLLLoss()\n",
    "\n",
    "# optimizer = optim.SGD(model.parameters(), lr=learning_rate, momentum=momentum)\n",
    "optimizer = optim.SGD(filter(lambda p: p.requires_grad, model.parameters()), lr=learning_rate, momentum=momentum)\n",
    "\n",
    "if torch.cuda.is_available():\n",
    "    model.cuda()"
   ]
  },
  {
   "cell_type": "code",
   "execution_count": 21,
   "metadata": {},
   "outputs": [
    {
     "name": "stderr",
     "output_type": "stream",
     "text": [
      "/opt/anaconda3/lib/python3.6/site-packages/ipykernel_launcher.py:48: UserWarning: Implicit dimension choice for log_softmax has been deprecated. Change the call to include dim=X as an argument.\n"
     ]
    },
    {
     "name": "stdout",
     "output_type": "stream",
     "text": [
      "epoch: 5, loss: 0.0032185656018555164\n",
      "epoch: 10, loss: 0.0005312477005645633\n",
      "epoch: 15, loss: 0.00022537367476616055\n"
     ]
    },
    {
     "ename": "KeyboardInterrupt",
     "evalue": "",
     "output_type": "error",
     "traceback": [
      "\u001b[0;31m---------------------------------------------------------------------------\u001b[0m",
      "\u001b[0;31mKeyboardInterrupt\u001b[0m                         Traceback (most recent call last)",
      "\u001b[0;32m<ipython-input-21-fd9bf6ecc073>\u001b[0m in \u001b[0;36m<module>\u001b[0;34m()\u001b[0m\n\u001b[1;32m     16\u001b[0m \u001b[0;34m\u001b[0m\u001b[0m\n\u001b[1;32m     17\u001b[0m         \u001b[0;31m# 運行我們的模型，直接將模型名作為方法名看待即可\u001b[0m\u001b[0;34m\u001b[0m\u001b[0;34m\u001b[0m\u001b[0m\n\u001b[0;32m---> 18\u001b[0;31m         \u001b[0mtag_scores\u001b[0m \u001b[0;34m=\u001b[0m \u001b[0mmodel\u001b[0m\u001b[0;34m(\u001b[0m\u001b[0msentence_in\u001b[0m\u001b[0;34m)\u001b[0m\u001b[0;34m\u001b[0m\u001b[0m\n\u001b[0m\u001b[1;32m     19\u001b[0m \u001b[0;34m\u001b[0m\u001b[0m\n\u001b[1;32m     20\u001b[0m         \u001b[0;31m# 計算損失，反向傳遞梯度及更新模型參數\u001b[0m\u001b[0;34m\u001b[0m\u001b[0;34m\u001b[0m\u001b[0m\n",
      "\u001b[0;32m/home/vincent/.local/lib/python3.6/site-packages/torch/nn/modules/module.py\u001b[0m in \u001b[0;36m__call__\u001b[0;34m(self, *input, **kwargs)\u001b[0m\n\u001b[1;32m    489\u001b[0m             \u001b[0mresult\u001b[0m \u001b[0;34m=\u001b[0m \u001b[0mself\u001b[0m\u001b[0;34m.\u001b[0m\u001b[0m_slow_forward\u001b[0m\u001b[0;34m(\u001b[0m\u001b[0;34m*\u001b[0m\u001b[0minput\u001b[0m\u001b[0;34m,\u001b[0m \u001b[0;34m**\u001b[0m\u001b[0mkwargs\u001b[0m\u001b[0;34m)\u001b[0m\u001b[0;34m\u001b[0m\u001b[0m\n\u001b[1;32m    490\u001b[0m         \u001b[0;32melse\u001b[0m\u001b[0;34m:\u001b[0m\u001b[0;34m\u001b[0m\u001b[0m\n\u001b[0;32m--> 491\u001b[0;31m             \u001b[0mresult\u001b[0m \u001b[0;34m=\u001b[0m \u001b[0mself\u001b[0m\u001b[0;34m.\u001b[0m\u001b[0mforward\u001b[0m\u001b[0;34m(\u001b[0m\u001b[0;34m*\u001b[0m\u001b[0minput\u001b[0m\u001b[0;34m,\u001b[0m \u001b[0;34m**\u001b[0m\u001b[0mkwargs\u001b[0m\u001b[0;34m)\u001b[0m\u001b[0;34m\u001b[0m\u001b[0m\n\u001b[0m\u001b[1;32m    492\u001b[0m         \u001b[0;32mfor\u001b[0m \u001b[0mhook\u001b[0m \u001b[0;32min\u001b[0m \u001b[0mself\u001b[0m\u001b[0;34m.\u001b[0m\u001b[0m_forward_hooks\u001b[0m\u001b[0;34m.\u001b[0m\u001b[0mvalues\u001b[0m\u001b[0;34m(\u001b[0m\u001b[0;34m)\u001b[0m\u001b[0;34m:\u001b[0m\u001b[0;34m\u001b[0m\u001b[0m\n\u001b[1;32m    493\u001b[0m             \u001b[0mhook_result\u001b[0m \u001b[0;34m=\u001b[0m \u001b[0mhook\u001b[0m\u001b[0;34m(\u001b[0m\u001b[0mself\u001b[0m\u001b[0;34m,\u001b[0m \u001b[0minput\u001b[0m\u001b[0;34m,\u001b[0m \u001b[0mresult\u001b[0m\u001b[0;34m)\u001b[0m\u001b[0;34m\u001b[0m\u001b[0m\n",
      "\u001b[0;32m<ipython-input-19-141da6947bc1>\u001b[0m in \u001b[0;36mforward\u001b[0;34m(self, sentence)\u001b[0m\n\u001b[1;32m     42\u001b[0m         \u001b[0;32mtry\u001b[0m\u001b[0;34m:\u001b[0m\u001b[0;34m\u001b[0m\u001b[0m\n\u001b[1;32m     43\u001b[0m             lstm_out, self.hidden = self.lstm(\n\u001b[0;32m---> 44\u001b[0;31m                 embeds.view(len(sentence), 1, -1), self.hidden)\n\u001b[0m\u001b[1;32m     45\u001b[0m \u001b[0;34m\u001b[0m\u001b[0m\n\u001b[1;32m     46\u001b[0m             \u001b[0mtag_space\u001b[0m \u001b[0;34m=\u001b[0m \u001b[0mself\u001b[0m\u001b[0;34m.\u001b[0m\u001b[0mhidden2tag\u001b[0m\u001b[0;34m(\u001b[0m\u001b[0mlstm_out\u001b[0m\u001b[0;34m.\u001b[0m\u001b[0mview\u001b[0m\u001b[0;34m(\u001b[0m\u001b[0mlen\u001b[0m\u001b[0;34m(\u001b[0m\u001b[0msentence\u001b[0m\u001b[0;34m)\u001b[0m\u001b[0;34m,\u001b[0m \u001b[0;34m-\u001b[0m\u001b[0;36m1\u001b[0m\u001b[0;34m)\u001b[0m\u001b[0;34m)\u001b[0m\u001b[0;34m\u001b[0m\u001b[0m\n",
      "\u001b[0;32m/home/vincent/.local/lib/python3.6/site-packages/torch/nn/modules/module.py\u001b[0m in \u001b[0;36m__call__\u001b[0;34m(self, *input, **kwargs)\u001b[0m\n\u001b[1;32m    489\u001b[0m             \u001b[0mresult\u001b[0m \u001b[0;34m=\u001b[0m \u001b[0mself\u001b[0m\u001b[0;34m.\u001b[0m\u001b[0m_slow_forward\u001b[0m\u001b[0;34m(\u001b[0m\u001b[0;34m*\u001b[0m\u001b[0minput\u001b[0m\u001b[0;34m,\u001b[0m \u001b[0;34m**\u001b[0m\u001b[0mkwargs\u001b[0m\u001b[0;34m)\u001b[0m\u001b[0;34m\u001b[0m\u001b[0m\n\u001b[1;32m    490\u001b[0m         \u001b[0;32melse\u001b[0m\u001b[0;34m:\u001b[0m\u001b[0;34m\u001b[0m\u001b[0m\n\u001b[0;32m--> 491\u001b[0;31m             \u001b[0mresult\u001b[0m \u001b[0;34m=\u001b[0m \u001b[0mself\u001b[0m\u001b[0;34m.\u001b[0m\u001b[0mforward\u001b[0m\u001b[0;34m(\u001b[0m\u001b[0;34m*\u001b[0m\u001b[0minput\u001b[0m\u001b[0;34m,\u001b[0m \u001b[0;34m**\u001b[0m\u001b[0mkwargs\u001b[0m\u001b[0;34m)\u001b[0m\u001b[0;34m\u001b[0m\u001b[0m\n\u001b[0m\u001b[1;32m    492\u001b[0m         \u001b[0;32mfor\u001b[0m \u001b[0mhook\u001b[0m \u001b[0;32min\u001b[0m \u001b[0mself\u001b[0m\u001b[0;34m.\u001b[0m\u001b[0m_forward_hooks\u001b[0m\u001b[0;34m.\u001b[0m\u001b[0mvalues\u001b[0m\u001b[0;34m(\u001b[0m\u001b[0;34m)\u001b[0m\u001b[0;34m:\u001b[0m\u001b[0;34m\u001b[0m\u001b[0m\n\u001b[1;32m    493\u001b[0m             \u001b[0mhook_result\u001b[0m \u001b[0;34m=\u001b[0m \u001b[0mhook\u001b[0m\u001b[0;34m(\u001b[0m\u001b[0mself\u001b[0m\u001b[0;34m,\u001b[0m \u001b[0minput\u001b[0m\u001b[0;34m,\u001b[0m \u001b[0mresult\u001b[0m\u001b[0;34m)\u001b[0m\u001b[0;34m\u001b[0m\u001b[0m\n",
      "\u001b[0;32m/home/vincent/.local/lib/python3.6/site-packages/torch/nn/modules/rnn.py\u001b[0m in \u001b[0;36mforward\u001b[0;34m(self, input, hx)\u001b[0m\n\u001b[1;32m    190\u001b[0m             \u001b[0mflat_weight\u001b[0m\u001b[0;34m=\u001b[0m\u001b[0mflat_weight\u001b[0m\u001b[0;34m\u001b[0m\u001b[0m\n\u001b[1;32m    191\u001b[0m         )\n\u001b[0;32m--> 192\u001b[0;31m         \u001b[0moutput\u001b[0m\u001b[0;34m,\u001b[0m \u001b[0mhidden\u001b[0m \u001b[0;34m=\u001b[0m \u001b[0mfunc\u001b[0m\u001b[0;34m(\u001b[0m\u001b[0minput\u001b[0m\u001b[0;34m,\u001b[0m \u001b[0mself\u001b[0m\u001b[0;34m.\u001b[0m\u001b[0mall_weights\u001b[0m\u001b[0;34m,\u001b[0m \u001b[0mhx\u001b[0m\u001b[0;34m,\u001b[0m \u001b[0mbatch_sizes\u001b[0m\u001b[0;34m)\u001b[0m\u001b[0;34m\u001b[0m\u001b[0m\n\u001b[0m\u001b[1;32m    193\u001b[0m         \u001b[0;32mif\u001b[0m \u001b[0mis_packed\u001b[0m\u001b[0;34m:\u001b[0m\u001b[0;34m\u001b[0m\u001b[0m\n\u001b[1;32m    194\u001b[0m             \u001b[0moutput\u001b[0m \u001b[0;34m=\u001b[0m \u001b[0mPackedSequence\u001b[0m\u001b[0;34m(\u001b[0m\u001b[0moutput\u001b[0m\u001b[0;34m,\u001b[0m \u001b[0mbatch_sizes\u001b[0m\u001b[0;34m)\u001b[0m\u001b[0;34m\u001b[0m\u001b[0m\n",
      "\u001b[0;32m/home/vincent/.local/lib/python3.6/site-packages/torch/nn/_functions/rnn.py\u001b[0m in \u001b[0;36mforward\u001b[0;34m(input, *fargs, **fkwargs)\u001b[0m\n\u001b[1;32m    321\u001b[0m             \u001b[0mfunc\u001b[0m \u001b[0;34m=\u001b[0m \u001b[0mdecorator\u001b[0m\u001b[0;34m(\u001b[0m\u001b[0mfunc\u001b[0m\u001b[0;34m)\u001b[0m\u001b[0;34m\u001b[0m\u001b[0m\n\u001b[1;32m    322\u001b[0m \u001b[0;34m\u001b[0m\u001b[0m\n\u001b[0;32m--> 323\u001b[0;31m         \u001b[0;32mreturn\u001b[0m \u001b[0mfunc\u001b[0m\u001b[0;34m(\u001b[0m\u001b[0minput\u001b[0m\u001b[0;34m,\u001b[0m \u001b[0;34m*\u001b[0m\u001b[0mfargs\u001b[0m\u001b[0;34m,\u001b[0m \u001b[0;34m**\u001b[0m\u001b[0mfkwargs\u001b[0m\u001b[0;34m)\u001b[0m\u001b[0;34m\u001b[0m\u001b[0m\n\u001b[0m\u001b[1;32m    324\u001b[0m \u001b[0;34m\u001b[0m\u001b[0m\n\u001b[1;32m    325\u001b[0m     \u001b[0;32mreturn\u001b[0m \u001b[0mforward\u001b[0m\u001b[0;34m\u001b[0m\u001b[0m\n",
      "\u001b[0;32m/home/vincent/.local/lib/python3.6/site-packages/torch/nn/_functions/rnn.py\u001b[0m in \u001b[0;36mforward\u001b[0;34m(input, weight, hx, batch_sizes)\u001b[0m\n\u001b[1;32m    285\u001b[0m             \u001b[0mbatch_first\u001b[0m\u001b[0;34m,\u001b[0m \u001b[0mdropout\u001b[0m\u001b[0;34m,\u001b[0m \u001b[0mtrain\u001b[0m\u001b[0;34m,\u001b[0m \u001b[0mbool\u001b[0m\u001b[0;34m(\u001b[0m\u001b[0mbidirectional\u001b[0m\u001b[0;34m)\u001b[0m\u001b[0;34m,\u001b[0m\u001b[0;34m\u001b[0m\u001b[0m\n\u001b[1;32m    286\u001b[0m             \u001b[0mlist\u001b[0m\u001b[0;34m(\u001b[0m\u001b[0mbatch_sizes\u001b[0m\u001b[0;34m.\u001b[0m\u001b[0mdata\u001b[0m\u001b[0;34m)\u001b[0m \u001b[0;32mif\u001b[0m \u001b[0mvariable_length\u001b[0m \u001b[0;32melse\u001b[0m \u001b[0;34m(\u001b[0m\u001b[0;34m)\u001b[0m\u001b[0;34m,\u001b[0m\u001b[0;34m\u001b[0m\u001b[0m\n\u001b[0;32m--> 287\u001b[0;31m             dropout_ts)\n\u001b[0m\u001b[1;32m    288\u001b[0m \u001b[0;34m\u001b[0m\u001b[0m\n\u001b[1;32m    289\u001b[0m         \u001b[0;32mif\u001b[0m \u001b[0mcx\u001b[0m \u001b[0;32mis\u001b[0m \u001b[0;32mnot\u001b[0m \u001b[0;32mNone\u001b[0m\u001b[0;34m:\u001b[0m\u001b[0;34m\u001b[0m\u001b[0m\n",
      "\u001b[0;31mKeyboardInterrupt\u001b[0m: "
     ]
    }
   ],
   "source": [
    "# TRAIN\n",
    "\n",
    "for epoch in range(epochs): # 我們要訓練300次，可以根據任務量的大小酌情修改次數。\n",
    "    for sentence, tags in dse_train:\n",
    "        \n",
    "        # 清除網絡先前的梯度值，梯度值是Pytorch的變量才有的數據，Pytorch張量沒有\n",
    "        model.zero_grad()\n",
    "        \n",
    "        # 重新初始化隱藏層數據，避免受之前運行代碼的干擾\n",
    "        model.hidden = model.init_hidden()\n",
    "        \n",
    "        # 準備網絡可以接受的的輸入數據和真實標籤數據，這是一個監督式學習\n",
    "#         sentence_in = sequence_to_ixs(sentence, word_to_ix)\n",
    "        sentence_in = sequence_to_ixs2(sentence)        \n",
    "        targets = sequence_to_ixs(tags, tag_to_ix)\n",
    "\n",
    "        # 運行我們的模型，直接將模型名作為方法名看待即可\n",
    "        tag_scores = model(sentence_in)\n",
    "        \n",
    "        # 計算損失，反向傳遞梯度及更新模型參數\n",
    "        loss = loss_function(tag_scores, targets)\n",
    "        \n",
    "        loss.backward()\n",
    "        \n",
    "        optimizer.step()\n",
    "    \n",
    "    if (epoch + 1) % 5 == 0:\n",
    "        print(\"epoch: {}, loss: {}\".format(epoch+1, loss))\n",
    "        torch.save(model.state_dict(), model_path)"
   ]
  },
  {
   "cell_type": "code",
   "execution_count": 8,
   "metadata": {},
   "outputs": [],
   "source": [
    "model.load_state_dict(torch.load(model_path))"
   ]
  },
  {
   "cell_type": "code",
   "execution_count": 13,
   "metadata": {},
   "outputs": [],
   "source": [
    "def get_segments(tag_seq):\n",
    "    segs = []\n",
    "    start = -1\n",
    "    for i, y in enumerate(tag_seq):\n",
    "        if y == \"O\": \n",
    "            if start != -1: segs.append((start, i))\n",
    "            start = -1\n",
    "        elif y == \"B\":\n",
    "            if start != -1: segs.append((start, i))\n",
    "            start = i\n",
    "        elif y == \"I\":\n",
    "            if start == -1: start = i\n",
    "        else:\n",
    "            print(\"WRONG!\")\n",
    "    \n",
    "    if start != -1 and start != len(tag_seq):\n",
    "        segs.append((start, len(tag_seq)))\n",
    "        \n",
    "    return segs\n",
    "\n",
    "\n",
    "def evaluate(predicts, trues):\n",
    "    assert len(predicts) == len(trues)\n",
    "\n",
    "    precision_prop, recall_prop = .0, .0\n",
    "    precision_bin, recall_bin = 0, 0\n",
    "    predict_total, true_total = 0, 0\n",
    "    \n",
    "    for y_predict, y_true in zip(predicts, trues):\n",
    "        assert len(y_predict) == len(y_true)\n",
    "\n",
    "        predict_segs = get_segments(y_predict)\n",
    "        true_segs = get_segments(y_true)\n",
    "\n",
    "        predict_count = len(predict_segs)\n",
    "        true_count = len(true_segs)\n",
    "        \n",
    "        predict_total += predict_count\n",
    "        true_total += true_count\n",
    "        \n",
    "        predict_flags = [False for i in range(predict_count)]\n",
    "        true_flags = [False for i in range(true_count)]\n",
    "\n",
    "        for t_i, (t_start, t_end) in enumerate(true_segs):\n",
    "            for p_i, (p_start, p_end) in enumerate(predict_segs):\n",
    "                assert p_start != p_end\n",
    "\n",
    "                l_max = t_start if t_start > p_start else p_start\n",
    "                r_min = t_end   if t_end   < p_end else p_end\n",
    "                overlap = r_min - l_max if r_min > l_max else 0\n",
    "\n",
    "                precision_prop += overlap / (p_end - p_start)\n",
    "                recall_prop += overlap / (t_end - t_start)\n",
    "\n",
    "                if not predict_flags[p_i]:\n",
    "                    precision_bin += (overlap > 0)\n",
    "                    predict_flags[p_i] = True\n",
    "                if not true_flags[t_i]:\n",
    "                    recall_bin += (overlap > 0)\n",
    "                    true_flags[t_i] = True\n",
    "\n",
    "    precision = precision_bin / predict_total if predict_total != 0 else 1\n",
    "    recall = recall_bin / true_total\n",
    "    f1 = (2 * precision * recall) / (precision + recall)    \n",
    "    binary_overlap = { 'precision': precision, 'recall': recall, 'f1': f1 }\n",
    "    \n",
    "    precision = precision_prop / predict_total if predict_total != 0 else 1\n",
    "    recall = recall_prop / true_total\n",
    "    f1 = (2 * precision * recall) / (precision + recall)\n",
    "    proportional_overlap = { 'precision': precision, 'recall': recall, 'f1': f1 }\n",
    "    \n",
    "    return { 'binary': binary_overlap, 'proportional': proportional_overlap }"
   ]
  },
  {
   "cell_type": "code",
   "execution_count": 14,
   "metadata": {},
   "outputs": [
    {
     "name": "stderr",
     "output_type": "stream",
     "text": [
      "/opt/anaconda3/lib/python3.6/site-packages/ipykernel_launcher.py:36: UserWarning: Implicit dimension choice for log_softmax has been deprecated. Change the call to include dim=X as an argument.\n"
     ]
    },
    {
     "data": {
      "text/plain": [
       "{'binary': {'f1': 0.3995487246738379,\n",
       "  'precision': 0.4397363465160075,\n",
       "  'recall': 0.36609152288072017},\n",
       " 'proportional': {'f1': 0.52473112024155,\n",
       "  'precision': 0.6306407497085462,\n",
       "  'recall': 0.44927928410674106}}"
      ]
     },
     "execution_count": 14,
     "metadata": {},
     "output_type": "execute_result"
    }
   ],
   "source": [
    "# TEST\n",
    "y_predicts, y_trues = [], []\n",
    "for each in dse_test:\n",
    "    seq, true_targets = each\n",
    "#     inputs = sequence_to_ixs(seq, word_to_ix)\n",
    "    inputs = sequence_to_ixs2(seq)\n",
    "    predict_targets = model(inputs)\n",
    "    predict_targets = torch.max(predict_targets, 1)[1].cpu().numpy()\n",
    "    predict_targets = ixs_to_sequence(predict_targets, ix_to_tag)\n",
    "\n",
    "    y_predicts.append(predict_targets)\n",
    "    y_trues.append(true_targets)\n",
    "\n",
    "# 感覺可以實驗 tag by tag\n",
    "evaluate(y_predicts, y_trues)"
   ]
  },
  {
   "cell_type": "code",
   "execution_count": null,
   "metadata": {},
   "outputs": [],
   "source": []
  }
 ],
 "metadata": {
  "kernelspec": {
   "display_name": "Python 3",
   "language": "python",
   "name": "python3"
  },
  "language_info": {
   "codemirror_mode": {
    "name": "ipython",
    "version": 3
   },
   "file_extension": ".py",
   "mimetype": "text/x-python",
   "name": "python",
   "nbconvert_exporter": "python",
   "pygments_lexer": "ipython3",
   "version": "3.6.3"
  }
 },
 "nbformat": 4,
 "nbformat_minor": 2
}
