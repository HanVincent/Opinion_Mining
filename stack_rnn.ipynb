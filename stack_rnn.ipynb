{
 "cells": [
  {
   "cell_type": "code",
   "execution_count": 1,
   "metadata": {},
   "outputs": [],
   "source": [
    "import torch\n",
    "import torch.autograd as autograd # torch中自動計算梯度模塊\n",
    "import torch.nn as nn             # 神經網絡模塊\n",
    "import torch.nn.functional as F   # 神經網絡模塊中的常用功能 \n",
    "import torch.optim as optim       # 模型優化器模塊\n",
    "\n",
    "import os\n",
    "os.environ[\"CUDA_VISIBLE_DEVICES\"] = \"0\""
   ]
  },
  {
   "cell_type": "code",
   "execution_count": 2,
   "metadata": {},
   "outputs": [],
   "source": [
    "def get_data_pairs(file, ratio=0.1):\n",
    "    pairs = []\n",
    "    entries = open(file, 'r', encoding='utf8').read().strip().split('\\n\\n')\n",
    "    num = int(len(entries) * ratio)\n",
    "    \n",
    "    for entry in entries:\n",
    "        sentence, target = [], []\n",
    "        for line in entry.split('\\n'):\n",
    "            if line.strip() == '': continue\n",
    "                \n",
    "            token, pos, bio = line.split('\\t')\n",
    "            sentence.append(token)\n",
    "            target.append(bio)\n",
    "        pairs.append((sentence, target))\n",
    "\n",
    "    return pairs[num:], pairs[:num]"
   ]
  },
  {
   "cell_type": "code",
   "execution_count": 3,
   "metadata": {},
   "outputs": [
    {
     "name": "stdout",
     "output_type": "stream",
     "text": [
      "13043 13043\n"
     ]
    }
   ],
   "source": [
    "dse_train, dse_test = get_data_pairs('./dse.txt')\n",
    "ese_train, ese_test = get_data_pairs('./ese.txt')\n",
    "print(len(dse_train), len(ese_train))"
   ]
  },
  {
   "cell_type": "code",
   "execution_count": 4,
   "metadata": {},
   "outputs": [
    {
     "name": "stdout",
     "output_type": "stream",
     "text": [
      "22271\n"
     ]
    }
   ],
   "source": [
    "def get_dict(pair_data):\n",
    "    # not normalized\n",
    "    word_to_ix = {\"_UNK\": 0, \"_PAD\": 1} \n",
    "\n",
    "    for sent, tags in pair_data:\n",
    "        for word in sent:\n",
    "            if word not in word_to_ix:\n",
    "                word_to_ix[word] = len(word_to_ix)\n",
    "\n",
    "    tag_to_ix = {\"B\": 0, \"I\": 1, \"O\": 2} # 手工設定詞性標籤數據字典\n",
    "\n",
    "    return word_to_ix, tag_to_ix\n",
    "\n",
    "word_to_ix, tag_to_ix = get_dict(dse_train)\n",
    "print(len(word_to_ix))"
   ]
  },
  {
   "cell_type": "code",
   "execution_count": 5,
   "metadata": {},
   "outputs": [],
   "source": [
    "class LSTMTagger(nn.Module):\n",
    " \n",
    "    def __init__(self, embedding_dim, hidden_dim, \n",
    "                 vocab_size, tagset_size, \n",
    "                 dropout, num_layers, bidirectional):\n",
    "        super(LSTMTagger, self).__init__()\n",
    "        \n",
    "        self.hidden_dim = hidden_dim\n",
    "        self.num_layers = num_layers\n",
    " \n",
    "        self.word_embeddings = nn.Embedding(vocab_size, embedding_dim)\n",
    " \n",
    "        self.lstm = nn.LSTM(embedding_dim, hidden_dim, \n",
    "                            dropout=dropout, num_layers=num_layers,\n",
    "                            bidirectional=bidirectional)\n",
    " \n",
    "        self.hidden2tag = nn.Linear(hidden_dim * (1+int(bidirectional)), tagset_size)\n",
    "    \n",
    "        self.hidden = self.init_hidden()\n",
    " \n",
    "\n",
    "    def init_hidden(self):\n",
    "        return (autograd.Variable(torch.zeros(self.num_layers * (1+int(bidirectional)), 1, self.hidden_dim).cuda()),\n",
    "                autograd.Variable(torch.zeros(self.num_layers * (1+int(bidirectional)), 1, self.hidden_dim).cuda()))\n",
    " \n",
    "\n",
    "    def forward(self, sentence):\n",
    "        embeds = self.word_embeddings(sentence)\n",
    "        \n",
    "        try:\n",
    "            lstm_out, self.hidden = self.lstm(\n",
    "                embeds.view(len(sentence), 1, -1), self.hidden)\n",
    "\n",
    "            tag_space = self.hidden2tag(lstm_out.view(len(sentence), -1))\n",
    "\n",
    "            tag_scores = F.log_softmax(tag_space)\n",
    "\n",
    "            return tag_scores\n",
    "        except Exception as e:\n",
    "            print(sentence)\n",
    "            print(embeds)\n",
    "            print(e)"
   ]
  },
  {
   "cell_type": "code",
   "execution_count": 6,
   "metadata": {},
   "outputs": [],
   "source": [
    "def prepare_sequence(seq, to_ix):\n",
    "    idxs = [to_ix[w] if w in to_ix else 0 for w in seq]\n",
    "    tensor = torch.cuda.LongTensor(idxs)\n",
    "    \n",
    "    return autograd.Variable(tensor)"
   ]
  },
  {
   "cell_type": "code",
   "execution_count": 16,
   "metadata": {},
   "outputs": [],
   "source": [
    "EMBEDDING_DIM = 128\n",
    "HIDDEN_DIM = 128\n",
    "learning_rate = 0.1\n",
    "dropout = 0\n",
    "num_layers = 1\n",
    "bidirectional = False\n",
    "model_path = 'lstm_128.model'\n",
    "epochs = 300\n",
    "\n",
    "model = LSTMTagger(EMBEDDING_DIM, HIDDEN_DIM, \n",
    "                   len(word_to_ix), len(tag_to_ix), \n",
    "                   dropout=dropout,\n",
    "                   num_layers=num_layers,\n",
    "                   bidirectional=bidirectional)\n",
    "\n",
    "loss_function = nn.NLLLoss()\n",
    "\n",
    "optimizer = optim.SGD(model.parameters(), lr=learning_rate)\n",
    "\n",
    "if torch.cuda.is_available():\n",
    "    model.cuda()"
   ]
  },
  {
   "cell_type": "code",
   "execution_count": null,
   "metadata": {},
   "outputs": [],
   "source": [
    "# TRAIN\n",
    "\n",
    "for epoch in range(epochs): # 我們要訓練300次，可以根據任務量的大小酌情修改次數。\n",
    "    for sentence, tags in dse_train:\n",
    "        \n",
    "        # 清除網絡先前的梯度值，梯度值是Pytorch的變量才有的數據，Pytorch張量沒有\n",
    "        model.zero_grad()\n",
    "        \n",
    "        # 重新初始化隱藏層數據，避免受之前運行代碼的干擾\n",
    "        model.hidden = model.init_hidden()\n",
    "        \n",
    "        # 準備網絡可以接受的的輸入數據和真實標籤數據，這是一個監督式學習\n",
    "        sentence_in = prepare_sequence(sentence, word_to_ix)\n",
    "        targets = prepare_sequence(tags, tag_to_ix)\n",
    "        \n",
    "        # 運行我們的模型，直接將模型名作為方法名看待即可\n",
    "        tag_scores = model(sentence_in)\n",
    "        \n",
    "        # 計算損失，反向傳遞梯度及更新模型參數\n",
    "        loss = loss_function(tag_scores, targets)\n",
    "        \n",
    "        loss.backward()\n",
    "        \n",
    "        optimizer.step()\n",
    "    \n",
    "    if (epoch + 1) % 5 == 0:\n",
    "        print(\"epoch: {}, loss: {}\".format(epoch, loss))\n",
    "        torch.save(model.state_dict(), model_path)"
   ]
  },
  {
   "cell_type": "code",
   "execution_count": 17,
   "metadata": {},
   "outputs": [],
   "source": [
    "model.load_state_dict(torch.load(model_path))"
   ]
  },
  {
   "cell_type": "code",
   "execution_count": 18,
   "metadata": {},
   "outputs": [
    {
     "name": "stderr",
     "output_type": "stream",
     "text": [
      "/opt/anaconda3/lib/python3.6/site-packages/ipykernel_launcher.py:36: UserWarning: Implicit dimension choice for log_softmax has been deprecated. Change the call to include dim=X as an argument.\n"
     ]
    },
    {
     "name": "stdout",
     "output_type": "stream",
     "text": [
      "ratio: 0.6211180124223602\n"
     ]
    }
   ],
   "source": [
    "# TEST\n",
    "wrong = 0\n",
    "for each in dse_test:\n",
    "    seq, true_targets = each\n",
    "    inputs = prepare_sequence(seq, word_to_ix)\n",
    "    predict_targets = model(inputs)\n",
    "    predict_targets = torch.max(predict_targets, 1)[1].cpu().numpy()\n",
    "    \n",
    "    for y, y_ in zip(true_targets, predict_targets):\n",
    "        if tag_to_ix[y] != y_:\n",
    "#             print(seq)\n",
    "#             print(true_targets)\n",
    "#             print(predict_targets)\n",
    "            wrong += 1\n",
    "            break\n",
    "\n",
    "print(\"ratio:\", wrong/len(dse_test))"
   ]
  },
  {
   "cell_type": "code",
   "execution_count": null,
   "metadata": {},
   "outputs": [],
   "source": []
  }
 ],
 "metadata": {
  "kernelspec": {
   "display_name": "Python 3",
   "language": "python",
   "name": "python3"
  },
  "language_info": {
   "codemirror_mode": {
    "name": "ipython",
    "version": 3
   },
   "file_extension": ".py",
   "mimetype": "text/x-python",
   "name": "python",
   "nbconvert_exporter": "python",
   "pygments_lexer": "ipython3",
   "version": "3.6.3"
  }
 },
 "nbformat": 4,
 "nbformat_minor": 2
}
